{
 "cells": [
  {
   "cell_type": "code",
   "execution_count": 1,
   "metadata": {
    "colab": {
     "base_uri": "https://localhost:8080/"
    },
    "id": "-ltgWfMS9pGN",
    "outputId": "3dfb02bb-f6bd-427e-ed2e-16f8c528f6d3"
   },
   "outputs": [
    {
     "name": "stdout",
     "output_type": "stream",
     "text": [
      "Mounted at /content/drive\n",
      "Reading package lists... Done\n",
      "Building dependency tree... Done\n",
      "Reading state information... Done\n",
      "unrar is already the newest version (1:6.1.5-1ubuntu0.1).\n",
      "0 upgraded, 0 newly installed, 0 to remove and 29 not upgraded.\n",
      "Requirement already satisfied: torch in /usr/local/lib/python3.11/dist-packages (2.6.0+cu124)\n",
      "Requirement already satisfied: torchvision in /usr/local/lib/python3.11/dist-packages (0.21.0+cu124)\n",
      "Requirement already satisfied: filelock in /usr/local/lib/python3.11/dist-packages (from torch) (3.18.0)\n",
      "Requirement already satisfied: typing-extensions>=4.10.0 in /usr/local/lib/python3.11/dist-packages (from torch) (4.12.2)\n",
      "Requirement already satisfied: networkx in /usr/local/lib/python3.11/dist-packages (from torch) (3.4.2)\n",
      "Requirement already satisfied: jinja2 in /usr/local/lib/python3.11/dist-packages (from torch) (3.1.6)\n",
      "Requirement already satisfied: fsspec in /usr/local/lib/python3.11/dist-packages (from torch) (2025.3.0)\n",
      "Collecting nvidia-cuda-nvrtc-cu12==12.4.127 (from torch)\n",
      "  Downloading nvidia_cuda_nvrtc_cu12-12.4.127-py3-none-manylinux2014_x86_64.whl.metadata (1.5 kB)\n",
      "Collecting nvidia-cuda-runtime-cu12==12.4.127 (from torch)\n",
      "  Downloading nvidia_cuda_runtime_cu12-12.4.127-py3-none-manylinux2014_x86_64.whl.metadata (1.5 kB)\n",
      "Collecting nvidia-cuda-cupti-cu12==12.4.127 (from torch)\n",
      "  Downloading nvidia_cuda_cupti_cu12-12.4.127-py3-none-manylinux2014_x86_64.whl.metadata (1.6 kB)\n",
      "Collecting nvidia-cudnn-cu12==9.1.0.70 (from torch)\n",
      "  Downloading nvidia_cudnn_cu12-9.1.0.70-py3-none-manylinux2014_x86_64.whl.metadata (1.6 kB)\n",
      "Collecting nvidia-cublas-cu12==12.4.5.8 (from torch)\n",
      "  Downloading nvidia_cublas_cu12-12.4.5.8-py3-none-manylinux2014_x86_64.whl.metadata (1.5 kB)\n",
      "Collecting nvidia-cufft-cu12==11.2.1.3 (from torch)\n",
      "  Downloading nvidia_cufft_cu12-11.2.1.3-py3-none-manylinux2014_x86_64.whl.metadata (1.5 kB)\n",
      "Collecting nvidia-curand-cu12==10.3.5.147 (from torch)\n",
      "  Downloading nvidia_curand_cu12-10.3.5.147-py3-none-manylinux2014_x86_64.whl.metadata (1.5 kB)\n",
      "Collecting nvidia-cusolver-cu12==11.6.1.9 (from torch)\n",
      "  Downloading nvidia_cusolver_cu12-11.6.1.9-py3-none-manylinux2014_x86_64.whl.metadata (1.6 kB)\n",
      "Collecting nvidia-cusparse-cu12==12.3.1.170 (from torch)\n",
      "  Downloading nvidia_cusparse_cu12-12.3.1.170-py3-none-manylinux2014_x86_64.whl.metadata (1.6 kB)\n",
      "Requirement already satisfied: nvidia-cusparselt-cu12==0.6.2 in /usr/local/lib/python3.11/dist-packages (from torch) (0.6.2)\n",
      "Requirement already satisfied: nvidia-nccl-cu12==2.21.5 in /usr/local/lib/python3.11/dist-packages (from torch) (2.21.5)\n",
      "Requirement already satisfied: nvidia-nvtx-cu12==12.4.127 in /usr/local/lib/python3.11/dist-packages (from torch) (12.4.127)\n",
      "Collecting nvidia-nvjitlink-cu12==12.4.127 (from torch)\n",
      "  Downloading nvidia_nvjitlink_cu12-12.4.127-py3-none-manylinux2014_x86_64.whl.metadata (1.5 kB)\n",
      "Requirement already satisfied: triton==3.2.0 in /usr/local/lib/python3.11/dist-packages (from torch) (3.2.0)\n",
      "Requirement already satisfied: sympy==1.13.1 in /usr/local/lib/python3.11/dist-packages (from torch) (1.13.1)\n",
      "Requirement already satisfied: mpmath<1.4,>=1.1.0 in /usr/local/lib/python3.11/dist-packages (from sympy==1.13.1->torch) (1.3.0)\n",
      "Requirement already satisfied: numpy in /usr/local/lib/python3.11/dist-packages (from torchvision) (2.0.2)\n",
      "Requirement already satisfied: pillow!=8.3.*,>=5.3.0 in /usr/local/lib/python3.11/dist-packages (from torchvision) (11.1.0)\n",
      "Requirement already satisfied: MarkupSafe>=2.0 in /usr/local/lib/python3.11/dist-packages (from jinja2->torch) (3.0.2)\n",
      "Downloading nvidia_cublas_cu12-12.4.5.8-py3-none-manylinux2014_x86_64.whl (363.4 MB)\n",
      "\u001b[2K   \u001b[90m━━━━━━━━━━━━━━━━━━━━━━━━━━━━━━━━━━━━━━━━\u001b[0m \u001b[32m363.4/363.4 MB\u001b[0m \u001b[31m4.1 MB/s\u001b[0m eta \u001b[36m0:00:00\u001b[0m\n",
      "\u001b[?25hDownloading nvidia_cuda_cupti_cu12-12.4.127-py3-none-manylinux2014_x86_64.whl (13.8 MB)\n",
      "\u001b[2K   \u001b[90m━━━━━━━━━━━━━━━━━━━━━━━━━━━━━━━━━━━━━━━━\u001b[0m \u001b[32m13.8/13.8 MB\u001b[0m \u001b[31m61.2 MB/s\u001b[0m eta \u001b[36m0:00:00\u001b[0m\n",
      "\u001b[?25hDownloading nvidia_cuda_nvrtc_cu12-12.4.127-py3-none-manylinux2014_x86_64.whl (24.6 MB)\n",
      "\u001b[2K   \u001b[90m━━━━━━━━━━━━━━━━━━━━━━━━━━━━━━━━━━━━━━━━\u001b[0m \u001b[32m24.6/24.6 MB\u001b[0m \u001b[31m34.1 MB/s\u001b[0m eta \u001b[36m0:00:00\u001b[0m\n",
      "\u001b[?25hDownloading nvidia_cuda_runtime_cu12-12.4.127-py3-none-manylinux2014_x86_64.whl (883 kB)\n",
      "\u001b[2K   \u001b[90m━━━━━━━━━━━━━━━━━━━━━━━━━━━━━━━━━━━━━━━━\u001b[0m \u001b[32m883.7/883.7 kB\u001b[0m \u001b[31m46.9 MB/s\u001b[0m eta \u001b[36m0:00:00\u001b[0m\n",
      "\u001b[?25hDownloading nvidia_cudnn_cu12-9.1.0.70-py3-none-manylinux2014_x86_64.whl (664.8 MB)\n",
      "\u001b[2K   \u001b[90m━━━━━━━━━━━━━━━━━━━━━━━━━━━━━━━━━━━━━━━━\u001b[0m \u001b[32m664.8/664.8 MB\u001b[0m \u001b[31m2.1 MB/s\u001b[0m eta \u001b[36m0:00:00\u001b[0m\n",
      "\u001b[?25hDownloading nvidia_cufft_cu12-11.2.1.3-py3-none-manylinux2014_x86_64.whl (211.5 MB)\n",
      "\u001b[2K   \u001b[90m━━━━━━━━━━━━━━━━━━━━━━━━━━━━━━━━━━━━━━━━\u001b[0m \u001b[32m211.5/211.5 MB\u001b[0m \u001b[31m5.6 MB/s\u001b[0m eta \u001b[36m0:00:00\u001b[0m\n",
      "\u001b[?25hDownloading nvidia_curand_cu12-10.3.5.147-py3-none-manylinux2014_x86_64.whl (56.3 MB)\n",
      "\u001b[2K   \u001b[90m━━━━━━━━━━━━━━━━━━━━━━━━━━━━━━━━━━━━━━━━\u001b[0m \u001b[32m56.3/56.3 MB\u001b[0m \u001b[31m17.6 MB/s\u001b[0m eta \u001b[36m0:00:00\u001b[0m\n",
      "\u001b[?25hDownloading nvidia_cusolver_cu12-11.6.1.9-py3-none-manylinux2014_x86_64.whl (127.9 MB)\n",
      "\u001b[2K   \u001b[90m━━━━━━━━━━━━━━━━━━━━━━━━━━━━━━━━━━━━━━━━\u001b[0m \u001b[32m127.9/127.9 MB\u001b[0m \u001b[31m7.5 MB/s\u001b[0m eta \u001b[36m0:00:00\u001b[0m\n",
      "\u001b[?25hDownloading nvidia_cusparse_cu12-12.3.1.170-py3-none-manylinux2014_x86_64.whl (207.5 MB)\n",
      "\u001b[2K   \u001b[90m━━━━━━━━━━━━━━━━━━━━━━━━━━━━━━━━━━━━━━━━\u001b[0m \u001b[32m207.5/207.5 MB\u001b[0m \u001b[31m8.0 MB/s\u001b[0m eta \u001b[36m0:00:00\u001b[0m\n",
      "\u001b[?25hDownloading nvidia_nvjitlink_cu12-12.4.127-py3-none-manylinux2014_x86_64.whl (21.1 MB)\n",
      "\u001b[2K   \u001b[90m━━━━━━━━━━━━━━━━━━━━━━━━━━━━━━━━━━━━━━━━\u001b[0m \u001b[32m21.1/21.1 MB\u001b[0m \u001b[31m62.3 MB/s\u001b[0m eta \u001b[36m0:00:00\u001b[0m\n",
      "\u001b[?25hInstalling collected packages: nvidia-nvjitlink-cu12, nvidia-curand-cu12, nvidia-cufft-cu12, nvidia-cuda-runtime-cu12, nvidia-cuda-nvrtc-cu12, nvidia-cuda-cupti-cu12, nvidia-cublas-cu12, nvidia-cusparse-cu12, nvidia-cudnn-cu12, nvidia-cusolver-cu12\n",
      "  Attempting uninstall: nvidia-nvjitlink-cu12\n",
      "    Found existing installation: nvidia-nvjitlink-cu12 12.5.82\n",
      "    Uninstalling nvidia-nvjitlink-cu12-12.5.82:\n",
      "      Successfully uninstalled nvidia-nvjitlink-cu12-12.5.82\n",
      "  Attempting uninstall: nvidia-curand-cu12\n",
      "    Found existing installation: nvidia-curand-cu12 10.3.6.82\n",
      "    Uninstalling nvidia-curand-cu12-10.3.6.82:\n",
      "      Successfully uninstalled nvidia-curand-cu12-10.3.6.82\n",
      "  Attempting uninstall: nvidia-cufft-cu12\n",
      "    Found existing installation: nvidia-cufft-cu12 11.2.3.61\n",
      "    Uninstalling nvidia-cufft-cu12-11.2.3.61:\n",
      "      Successfully uninstalled nvidia-cufft-cu12-11.2.3.61\n",
      "  Attempting uninstall: nvidia-cuda-runtime-cu12\n",
      "    Found existing installation: nvidia-cuda-runtime-cu12 12.5.82\n",
      "    Uninstalling nvidia-cuda-runtime-cu12-12.5.82:\n",
      "      Successfully uninstalled nvidia-cuda-runtime-cu12-12.5.82\n",
      "  Attempting uninstall: nvidia-cuda-nvrtc-cu12\n",
      "    Found existing installation: nvidia-cuda-nvrtc-cu12 12.5.82\n",
      "    Uninstalling nvidia-cuda-nvrtc-cu12-12.5.82:\n",
      "      Successfully uninstalled nvidia-cuda-nvrtc-cu12-12.5.82\n",
      "  Attempting uninstall: nvidia-cuda-cupti-cu12\n",
      "    Found existing installation: nvidia-cuda-cupti-cu12 12.5.82\n",
      "    Uninstalling nvidia-cuda-cupti-cu12-12.5.82:\n",
      "      Successfully uninstalled nvidia-cuda-cupti-cu12-12.5.82\n",
      "  Attempting uninstall: nvidia-cublas-cu12\n",
      "    Found existing installation: nvidia-cublas-cu12 12.5.3.2\n",
      "    Uninstalling nvidia-cublas-cu12-12.5.3.2:\n",
      "      Successfully uninstalled nvidia-cublas-cu12-12.5.3.2\n",
      "  Attempting uninstall: nvidia-cusparse-cu12\n",
      "    Found existing installation: nvidia-cusparse-cu12 12.5.1.3\n",
      "    Uninstalling nvidia-cusparse-cu12-12.5.1.3:\n",
      "      Successfully uninstalled nvidia-cusparse-cu12-12.5.1.3\n",
      "  Attempting uninstall: nvidia-cudnn-cu12\n",
      "    Found existing installation: nvidia-cudnn-cu12 9.3.0.75\n",
      "    Uninstalling nvidia-cudnn-cu12-9.3.0.75:\n",
      "      Successfully uninstalled nvidia-cudnn-cu12-9.3.0.75\n",
      "  Attempting uninstall: nvidia-cusolver-cu12\n",
      "    Found existing installation: nvidia-cusolver-cu12 11.6.3.83\n",
      "    Uninstalling nvidia-cusolver-cu12-11.6.3.83:\n",
      "      Successfully uninstalled nvidia-cusolver-cu12-11.6.3.83\n",
      "Successfully installed nvidia-cublas-cu12-12.4.5.8 nvidia-cuda-cupti-cu12-12.4.127 nvidia-cuda-nvrtc-cu12-12.4.127 nvidia-cuda-runtime-cu12-12.4.127 nvidia-cudnn-cu12-9.1.0.70 nvidia-cufft-cu12-11.2.1.3 nvidia-curand-cu12-10.3.5.147 nvidia-cusolver-cu12-11.6.1.9 nvidia-cusparse-cu12-12.3.1.170 nvidia-nvjitlink-cu12-12.4.127\n"
     ]
    }
   ],
   "source": [
    "from google.colab import drive\n",
    "drive.mount('/content/drive')\n",
    "!apt-get install unrar\n",
    "!pip install torch torchvision"
   ]
  },
  {
   "cell_type": "code",
   "execution_count": 2,
   "metadata": {
    "colab": {
     "base_uri": "https://localhost:8080/"
    },
    "id": "1kMlfpnx9ryg",
    "outputId": "2dfb3d9e-075b-421d-93c3-d519531e04fb"
   },
   "outputs": [
    {
     "name": "stdout",
     "output_type": "stream",
     "text": [
      "\n",
      "UNRAR 6.11 beta 1 freeware      Copyright (c) 1993-2022 Alexander Roshal\n",
      "\n",
      "\n",
      "Extracting from /content/final_project2.rar\n",
      "\n",
      "Extracting  /content/final_project2/final_project.docx                   \b\b\b\b  0%\b\b\b\b\b  OK \n",
      "Creating    /content/final_project2/wood_dataset                      OK\n",
      "Creating    /content/final_project2/wood_dataset/wood                 OK\n",
      "Creating    /content/final_project2/wood_dataset/wood/ground_truth    OK\n",
      "Creating    /content/final_project2/wood_dataset/wood/ground_truth/defect  OK\n",
      "Extracting  /content/final_project2/wood_dataset/wood/ground_truth/defect/100000000_mask.jpg     \b\b\b\b  0%\b\b\b\b\b  OK \n",
      "Extracting  /content/final_project2/wood_dataset/wood/ground_truth/defect/100000003_mask.jpg     \b\b\b\b  0%\b\b\b\b\b  OK \n",
      "Extracting  /content/final_project2/wood_dataset/wood/ground_truth/defect/100000006_mask.jpg     \b\b\b\b  0%\b\b\b\b\b  OK \n",
      "Extracting  /content/final_project2/wood_dataset/wood/ground_truth/defect/100000007_mask.jpg     \b\b\b\b  0%\b\b\b\b\b  OK \n",
      "Extracting  /content/final_project2/wood_dataset/wood/ground_truth/defect/100000008_mask.jpg     \b\b\b\b  0%\b\b\b\b\b  OK \n",
      "Extracting  /content/final_project2/wood_dataset/wood/ground_truth/defect/100000009_mask.jpg     \b\b\b\b  0%\b\b\b\b\b  OK \n",
      "Extracting  /content/final_project2/wood_dataset/wood/ground_truth/defect/100000012_mask.jpg     \b\b\b\b  0%\b\b\b\b\b  OK \n",
      "Extracting  /content/final_project2/wood_dataset/wood/ground_truth/defect/100000014_mask.jpg     \b\b\b\b  0%\b\b\b\b\b  OK \n",
      "Extracting  /content/final_project2/wood_dataset/wood/ground_truth/defect/100000016_mask.jpg     \b\b\b\b  0%\b\b\b\b\b  OK \n",
      "Extracting  /content/final_project2/wood_dataset/wood/ground_truth/defect/100000018_mask.jpg     \b\b\b\b  0%\b\b\b\b\b  OK \n",
      "Extracting  /content/final_project2/wood_dataset/wood/ground_truth/defect/100000020_mask.jpg     \b\b\b\b  0%\b\b\b\b\b  OK \n",
      "Extracting  /content/final_project2/wood_dataset/wood/ground_truth/defect/100000021_mask.jpg     \b\b\b\b  0%\b\b\b\b\b  OK \n",
      "Extracting  /content/final_project2/wood_dataset/wood/ground_truth/defect/100000056_mask.jpg     \b\b\b\b  0%\b\b\b\b\b  OK \n",
      "Extracting  /content/final_project2/wood_dataset/wood/ground_truth/defect/100000069_mask.jpg     \b\b\b\b  0%\b\b\b\b\b  OK \n",
      "Extracting  /content/final_project2/wood_dataset/wood/ground_truth/defect/100000071_mask.jpg     \b\b\b\b  0%\b\b\b\b\b  OK \n",
      "Extracting  /content/final_project2/wood_dataset/wood/ground_truth/defect/100000073_mask.jpg     \b\b\b\b  0%\b\b\b\b\b  OK \n",
      "Extracting  /content/final_project2/wood_dataset/wood/ground_truth/defect/100100002_mask.jpg     \b\b\b\b  0%\b\b\b\b\b  OK \n",
      "Extracting  /content/final_project2/wood_dataset/wood/ground_truth/defect/100100003_mask.jpg     \b\b\b\b  0%\b\b\b\b\b  OK \n",
      "Extracting  /content/final_project2/wood_dataset/wood/ground_truth/defect/100100004_mask.jpg     \b\b\b\b  0%\b\b\b\b\b  OK \n",
      "Extracting  /content/final_project2/wood_dataset/wood/ground_truth/defect/100100005_mask.jpg     \b\b\b\b  0%\b\b\b\b\b  OK \n",
      "Extracting  /content/final_project2/wood_dataset/wood/ground_truth/defect/100100008_mask.jpg     \b\b\b\b  0%\b\b\b\b\b  OK \n",
      "Extracting  /content/final_project2/wood_dataset/wood/ground_truth/defect/100100026_mask.jpg     \b\b\b\b  0%\b\b\b\b\b  OK \n",
      "Extracting  /content/final_project2/wood_dataset/wood/ground_truth/defect/100100027_mask.jpg     \b\b\b\b  0%\b\b\b\b\b  OK \n",
      "Extracting  /content/final_project2/wood_dataset/wood/ground_truth/defect/100100033_mask.jpg     \b\b\b\b  0%\b\b\b\b\b  OK \n",
      "Extracting  /content/final_project2/wood_dataset/wood/ground_truth/defect/100100034_mask.jpg     \b\b\b\b  0%\b\b\b\b\b  OK \n",
      "Extracting  /content/final_project2/wood_dataset/wood/ground_truth/defect/100100035_mask.jpg     \b\b\b\b  0%\b\b\b\b\b  OK \n",
      "Extracting  /content/final_project2/wood_dataset/wood/ground_truth/defect/100100036_mask.jpg     \b\b\b\b  0%\b\b\b\b\b  OK \n",
      "Extracting  /content/final_project2/wood_dataset/wood/ground_truth/defect/100100037_mask.jpg     \b\b\b\b  0%\b\b\b\b\b  OK \n",
      "Extracting  /content/final_project2/wood_dataset/wood/ground_truth/defect/100100038_mask.jpg     \b\b\b\b  0%\b\b\b\b\b  OK \n",
      "Extracting  /content/final_project2/wood_dataset/wood/ground_truth/defect/100100039_mask.jpg     \b\b\b\b  0%\b\b\b\b\b  OK \n",
      "Extracting  /content/final_project2/wood_dataset/wood/ground_truth/defect/100100043_mask.jpg     \b\b\b\b  0%\b\b\b\b\b  OK \n",
      "Extracting  /content/final_project2/wood_dataset/wood/ground_truth/defect/100100048_mask.jpg     \b\b\b\b  0%\b\b\b\b\b  OK \n",
      "Extracting  /content/final_project2/wood_dataset/wood/ground_truth/defect/100100071_mask.jpg     \b\b\b\b  0%\b\b\b\b\b  OK \n",
      "Extracting  /content/final_project2/wood_dataset/wood/ground_truth/defect/100400000_mask.jpg     \b\b\b\b  0%\b\b\b\b\b  OK \n",
      "Extracting  /content/final_project2/wood_dataset/wood/ground_truth/defect/100500011_mask.jpg     \b\b\b\b  0%\b\b\b\b\b  OK \n",
      "Extracting  /content/final_project2/wood_dataset/wood/ground_truth/defect/100500053_mask.jpg     \b\b\b\b  0%\b\b\b\b\b  OK \n",
      "Extracting  /content/final_project2/wood_dataset/wood/ground_truth/defect/100700037_mask.jpg     \b\b\b\b  0%\b\b\b\b\b  OK \n",
      "Extracting  /content/final_project2/wood_dataset/wood/ground_truth/defect/100700054_mask.jpg     \b\b\b\b  0%\b\b\b\b\b  OK \n",
      "Extracting  /content/final_project2/wood_dataset/wood/ground_truth/defect/101100012_mask.jpg     \b\b\b\b  0%\b\b\b\b\b  OK \n",
      "Extracting  /content/final_project2/wood_dataset/wood/ground_truth/defect/101100013_mask.jpg     \b\b\b\b  0%\b\b\b\b\b  OK \n",
      "Extracting  /content/final_project2/wood_dataset/wood/ground_truth/defect/101100052_mask.jpg     \b\b\b\b  0%\b\b\b\b\b  OK \n",
      "Extracting  /content/final_project2/wood_dataset/wood/ground_truth/defect/101100059_mask.jpg     \b\b\b\b  0%\b\b\b\b\b  OK \n",
      "Extracting  /content/final_project2/wood_dataset/wood/ground_truth/defect/101100062_mask.jpg     \b\b\b\b  0%\b\b\b\b\b  OK \n",
      "Extracting  /content/final_project2/wood_dataset/wood/ground_truth/defect/101100083_mask.jpg     \b\b\b\b  0%\b\b\b\b\b  OK \n",
      "Extracting  /content/final_project2/wood_dataset/wood/ground_truth/defect/101500001_mask.jpg     \b\b\b\b  0%\b\b\b\b\b  OK \n",
      "Extracting  /content/final_project2/wood_dataset/wood/ground_truth/defect/101500002_mask.jpg     \b\b\b\b  0%\b\b\b\b\b  OK \n",
      "Extracting  /content/final_project2/wood_dataset/wood/ground_truth/defect/101500054_mask.jpg     \b\b\b\b  0%\b\b\b\b\b  OK \n",
      "Extracting  /content/final_project2/wood_dataset/wood/ground_truth/defect/101700027_mask.jpg     \b\b\b\b  0%\b\b\b\b\b  OK \n",
      "Extracting  /content/final_project2/wood_dataset/wood/ground_truth/defect/101800000_mask.jpg     \b\b\b\b  0%\b\b\b\b\b  OK \n",
      "Extracting  /content/final_project2/wood_dataset/wood/ground_truth/defect/101800003_mask.jpg     \b\b\b\b  0%\b\b\b\b\b  OK \n",
      "Extracting  /content/final_project2/wood_dataset/wood/ground_truth/defect/101900001_mask.jpg     \b\b\b\b  0%\b\b\b\b\b  OK \n",
      "Extracting  /content/final_project2/wood_dataset/wood/ground_truth/defect/101900002_mask.jpg     \b\b\b\b  0%\b\b\b\b\b  OK \n",
      "Extracting  /content/final_project2/wood_dataset/wood/ground_truth/defect/101900003_mask.jpg     \b\b\b\b  0%\b\b\b\b\b  OK \n",
      "Extracting  /content/final_project2/wood_dataset/wood/ground_truth/defect/101900004_mask.jpg     \b\b\b\b  0%\b\b\b\b\b  OK \n",
      "Extracting  /content/final_project2/wood_dataset/wood/ground_truth/defect/101900005_mask.jpg     \b\b\b\b  0%\b\b\b\b\b  OK \n",
      "Extracting  /content/final_project2/wood_dataset/wood/ground_truth/defect/101900007_mask.jpg     \b\b\b\b  0%\b\b\b\b\b  OK \n",
      "Extracting  /content/final_project2/wood_dataset/wood/ground_truth/defect/101900009_mask.jpg     \b\b\b\b  0%\b\b\b\b\b  OK \n",
      "Extracting  /content/final_project2/wood_dataset/wood/ground_truth/defect/101900010_mask.jpg     \b\b\b\b  0%\b\b\b\b\b  OK \n",
      "Extracting  /content/final_project2/wood_dataset/wood/ground_truth/defect/101900012_mask.jpg     \b\b\b\b  0%\b\b\b\b\b  OK \n",
      "Extracting  /content/final_project2/wood_dataset/wood/ground_truth/defect/101900013_mask.jpg     \b\b\b\b  0%\b\b\b\b\b  OK \n",
      "Extracting  /content/final_project2/wood_dataset/wood/ground_truth/defect/101900016_mask.jpg     \b\b\b\b  0%\b\b\b\b\b  OK \n",
      "Extracting  /content/final_project2/wood_dataset/wood/ground_truth/defect/101900017_mask.jpg     \b\b\b\b  0%\b\b\b\b\b  OK \n",
      "Extracting  /content/final_project2/wood_dataset/wood/ground_truth/defect/103200049_mask.jpg     \b\b\b\b  0%\b\b\b\b\b  OK \n",
      "Extracting  /content/final_project2/wood_dataset/wood/ground_truth/defect/103200050_mask.jpg     \b\b\b\b  0%\b\b\b\b\b  OK \n",
      "Extracting  /content/final_project2/wood_dataset/wood/ground_truth/defect/103200067_mask.jpg     \b\b\b\b  0%\b\b\b\b\b  OK \n",
      "Extracting  /content/final_project2/wood_dataset/wood/ground_truth/defect/103200070_mask.jpg     \b\b\b\b  0%\b\b\b\b\b  OK \n",
      "Extracting  /content/final_project2/wood_dataset/wood/ground_truth/defect/103400051_mask.jpg     \b\b\b\b  0%\b\b\b\b\b  OK \n",
      "Extracting  /content/final_project2/wood_dataset/wood/ground_truth/defect/103400075_mask.jpg     \b\b\b\b  0%\b\b\b\b\b  OK \n",
      "Extracting  /content/final_project2/wood_dataset/wood/ground_truth/defect/103400076_mask.jpg     \b\b\b\b  0%\b\b\b\b\b  OK \n",
      "Extracting  /content/final_project2/wood_dataset/wood/ground_truth/defect/103500050_mask.jpg     \b\b\b\b  0%\b\b\b\b\b  OK \n",
      "Extracting  /content/final_project2/wood_dataset/wood/ground_truth/defect/99900015_mask.jpg     \b\b\b\b  0%\b\b\b\b\b  OK \n",
      "Creating    /content/final_project2/wood_dataset/wood/test            OK\n",
      "Creating    /content/final_project2/wood_dataset/wood/test/defect     OK\n",
      "Extracting  /content/final_project2/wood_dataset/wood/test/defect/100000000.jpg     \b\b\b\b  1%\b\b\b\b\b  OK \n",
      "Extracting  /content/final_project2/wood_dataset/wood/test/defect/100000003.jpg     \b\b\b\b  2%\b\b\b\b\b  OK \n",
      "Extracting  /content/final_project2/wood_dataset/wood/test/defect/100000006.jpg     \b\b\b\b  3%\b\b\b\b\b  OK \n",
      "Extracting  /content/final_project2/wood_dataset/wood/test/defect/100000007.jpg     \b\b\b\b  4%\b\b\b\b\b  OK \n",
      "Extracting  /content/final_project2/wood_dataset/wood/test/defect/100000008.jpg     \b\b\b\b  5%\b\b\b\b\b  OK \n",
      "Extracting  /content/final_project2/wood_dataset/wood/test/defect/100000009.jpg     \b\b\b\b  6%\b\b\b\b\b  OK \n",
      "Extracting  /content/final_project2/wood_dataset/wood/test/defect/100000012.jpg     \b\b\b\b  7%\b\b\b\b\b  OK \n",
      "Extracting  /content/final_project2/wood_dataset/wood/test/defect/100000014.jpg     \b\b\b\b  8%\b\b\b\b\b  OK \n",
      "Extracting  /content/final_project2/wood_dataset/wood/test/defect/100000016.jpg     \b\b\b\b  9%\b\b\b\b 10%\b\b\b\b\b  OK \n",
      "Extracting  /content/final_project2/wood_dataset/wood/test/defect/100000018.jpg     \b\b\b\b 10%\b\b\b\b 11%\b\b\b\b\b  OK \n",
      "Extracting  /content/final_project2/wood_dataset/wood/test/defect/100000020.jpg     \b\b\b\b 11%\b\b\b\b 12%\b\b\b\b\b  OK \n",
      "Extracting  /content/final_project2/wood_dataset/wood/test/defect/100000021.jpg     \b\b\b\b 13%\b\b\b\b\b  OK \n",
      "Extracting  /content/final_project2/wood_dataset/wood/test/defect/100000056.jpg     \b\b\b\b 14%\b\b\b\b\b  OK \n",
      "Extracting  /content/final_project2/wood_dataset/wood/test/defect/100000069.jpg     \b\b\b\b 15%\b\b\b\b\b  OK \n",
      "Extracting  /content/final_project2/wood_dataset/wood/test/defect/100000071.jpg     \b\b\b\b 16%\b\b\b\b\b  OK \n",
      "Extracting  /content/final_project2/wood_dataset/wood/test/defect/100000073.jpg     \b\b\b\b 17%\b\b\b\b\b  OK \n",
      "Extracting  /content/final_project2/wood_dataset/wood/test/defect/100100002.jpg     \b\b\b\b 18%\b\b\b\b\b  OK \n",
      "Extracting  /content/final_project2/wood_dataset/wood/test/defect/100100003.jpg     \b\b\b\b 19%\b\b\b\b\b  OK \n",
      "Extracting  /content/final_project2/wood_dataset/wood/test/defect/100100004.jpg     \b\b\b\b 20%\b\b\b\b\b  OK \n",
      "Extracting  /content/final_project2/wood_dataset/wood/test/defect/100100005.jpg     \b\b\b\b 21%\b\b\b\b\b  OK \n",
      "Extracting  /content/final_project2/wood_dataset/wood/test/defect/100100008.jpg     \b\b\b\b 22%\b\b\b\b 23%\b\b\b\b\b  OK \n",
      "Extracting  /content/final_project2/wood_dataset/wood/test/defect/100100026.jpg     \b\b\b\b 23%\b\b\b\b 24%\b\b\b\b\b  OK \n",
      "Extracting  /content/final_project2/wood_dataset/wood/test/defect/100100027.jpg     \b\b\b\b 24%\b\b\b\b 25%\b\b\b\b\b  OK \n",
      "Extracting  /content/final_project2/wood_dataset/wood/test/defect/100100033.jpg     \b\b\b\b 26%\b\b\b\b\b  OK \n",
      "Extracting  /content/final_project2/wood_dataset/wood/test/defect/100100034.jpg     \b\b\b\b 27%\b\b\b\b\b  OK \n",
      "Extracting  /content/final_project2/wood_dataset/wood/test/defect/100100035.jpg     \b\b\b\b 28%\b\b\b\b\b  OK \n",
      "Extracting  /content/final_project2/wood_dataset/wood/test/defect/100100036.jpg     \b\b\b\b 29%\b\b\b\b\b  OK \n",
      "Extracting  /content/final_project2/wood_dataset/wood/test/defect/100100037.jpg     \b\b\b\b 30%\b\b\b\b\b  OK \n",
      "Extracting  /content/final_project2/wood_dataset/wood/test/defect/100100038.jpg     \b\b\b\b 31%\b\b\b\b\b  OK \n",
      "Extracting  /content/final_project2/wood_dataset/wood/test/defect/100100039.jpg     \b\b\b\b 32%\b\b\b\b\b  OK \n",
      "Extracting  /content/final_project2/wood_dataset/wood/test/defect/100100043.jpg     \b\b\b\b 33%\b\b\b\b\b  OK \n",
      "Extracting  /content/final_project2/wood_dataset/wood/test/defect/100100048.jpg     \b\b\b\b 34%\b\b\b\b\b  OK \n",
      "Extracting  /content/final_project2/wood_dataset/wood/test/defect/100100071.jpg     \b\b\b\b 35%\b\b\b\b 36%\b\b\b\b\b  OK \n",
      "Extracting  /content/final_project2/wood_dataset/wood/test/defect/100400000.jpg     \b\b\b\b 36%\b\b\b\b 37%\b\b\b\b\b  OK \n",
      "Extracting  /content/final_project2/wood_dataset/wood/test/defect/100500011.jpg     \b\b\b\b 38%\b\b\b\b\b  OK \n",
      "Extracting  /content/final_project2/wood_dataset/wood/test/defect/100500053.jpg     \b\b\b\b 38%\b\b\b\b\b  OK \n",
      "Extracting  /content/final_project2/wood_dataset/wood/test/defect/100700037.jpg     \b\b\b\b 39%\b\b\b\b\b  OK \n",
      "Extracting  /content/final_project2/wood_dataset/wood/test/defect/100700054.jpg     \b\b\b\b 40%\b\b\b\b\b  OK \n",
      "Extracting  /content/final_project2/wood_dataset/wood/test/defect/101100012.jpg     \b\b\b\b 41%\b\b\b\b\b  OK \n",
      "Extracting  /content/final_project2/wood_dataset/wood/test/defect/101100013.jpg     \b\b\b\b 42%\b\b\b\b\b  OK \n",
      "Extracting  /content/final_project2/wood_dataset/wood/test/defect/101100052.jpg     \b\b\b\b 43%\b\b\b\b\b  OK \n",
      "Extracting  /content/final_project2/wood_dataset/wood/test/defect/101100059.jpg     \b\b\b\b 44%\b\b\b\b\b  OK \n",
      "Extracting  /content/final_project2/wood_dataset/wood/test/defect/101100062.jpg     \b\b\b\b 45%\b\b\b\b\b  OK \n",
      "Extracting  /content/final_project2/wood_dataset/wood/test/defect/101100083.jpg     \b\b\b\b 46%\b\b\b\b\b  OK \n",
      "Extracting  /content/final_project2/wood_dataset/wood/test/defect/101500001.jpg     \b\b\b\b 47%\b\b\b\b\b  OK \n",
      "Extracting  /content/final_project2/wood_dataset/wood/test/defect/101500002.jpg     \b\b\b\b 48%\b\b\b\b\b  OK \n",
      "Extracting  /content/final_project2/wood_dataset/wood/test/defect/101500054.jpg     \b\b\b\b 49%\b\b\b\b 50%\b\b\b\b\b  OK \n",
      "Extracting  /content/final_project2/wood_dataset/wood/test/defect/101700027.jpg     \b\b\b\b 50%\b\b\b\b 51%\b\b\b\b\b  OK \n",
      "Extracting  /content/final_project2/wood_dataset/wood/test/defect/101800000.jpg     \b\b\b\b 52%\b\b\b\b\b  OK \n",
      "Extracting  /content/final_project2/wood_dataset/wood/test/defect/101800003.jpg     \b\b\b\b 53%\b\b\b\b\b  OK \n",
      "Extracting  /content/final_project2/wood_dataset/wood/test/defect/101900001.jpg     \b\b\b\b 54%\b\b\b\b\b  OK \n",
      "Extracting  /content/final_project2/wood_dataset/wood/test/defect/101900002.jpg     \b\b\b\b 55%\b\b\b\b\b  OK \n",
      "Extracting  /content/final_project2/wood_dataset/wood/test/defect/101900003.jpg     \b\b\b\b 56%\b\b\b\b\b  OK \n",
      "Extracting  /content/final_project2/wood_dataset/wood/test/defect/101900004.jpg     \b\b\b\b 57%\b\b\b\b\b  OK \n",
      "Extracting  /content/final_project2/wood_dataset/wood/test/defect/101900005.jpg     \b\b\b\b 58%\b\b\b\b\b  OK \n",
      "Extracting  /content/final_project2/wood_dataset/wood/test/defect/101900007.jpg     \b\b\b\b 59%\b\b\b\b\b  OK \n",
      "Extracting  /content/final_project2/wood_dataset/wood/test/defect/101900009.jpg     \b\b\b\b 60%\b\b\b\b\b  OK \n",
      "Extracting  /content/final_project2/wood_dataset/wood/test/defect/101900010.jpg     \b\b\b\b 61%\b\b\b\b\b  OK \n",
      "Extracting  /content/final_project2/wood_dataset/wood/test/defect/101900012.jpg     \b\b\b\b 62%\b\b\b\b 63%\b\b\b\b\b  OK \n",
      "Extracting  /content/final_project2/wood_dataset/wood/test/defect/101900013.jpg     \b\b\b\b 63%\b\b\b\b 64%\b\b\b\b\b  OK \n",
      "Extracting  /content/final_project2/wood_dataset/wood/test/defect/101900016.jpg     \b\b\b\b 65%\b\b\b\b\b  OK \n",
      "Extracting  /content/final_project2/wood_dataset/wood/test/defect/101900017.jpg     \b\b\b\b 66%\b\b\b\b\b  OK \n",
      "Extracting  /content/final_project2/wood_dataset/wood/test/defect/103200049.jpg     \b\b\b\b 67%\b\b\b\b\b  OK \n",
      "Extracting  /content/final_project2/wood_dataset/wood/test/defect/103200050.jpg     \b\b\b\b 68%\b\b\b\b\b  OK \n",
      "Extracting  /content/final_project2/wood_dataset/wood/test/defect/103200067.jpg     \b\b\b\b 69%\b\b\b\b\b  OK \n",
      "Extracting  /content/final_project2/wood_dataset/wood/test/defect/103200070.jpg     \b\b\b\b 70%\b\b\b\b\b  OK \n",
      "Extracting  /content/final_project2/wood_dataset/wood/test/defect/103400051.jpg     \b\b\b\b 71%\b\b\b\b\b  OK \n",
      "Extracting  /content/final_project2/wood_dataset/wood/test/defect/103400075.jpg     \b\b\b\b 72%\b\b\b\b\b  OK \n",
      "Extracting  /content/final_project2/wood_dataset/wood/test/defect/103400076.jpg     \b\b\b\b 73%\b\b\b\b\b  OK \n",
      "Extracting  /content/final_project2/wood_dataset/wood/test/defect/103500050.jpg     \b\b\b\b 74%\b\b\b\b 75%\b\b\b\b\b  OK \n",
      "Extracting  /content/final_project2/wood_dataset/wood/test/defect/99900015.jpg     \b\b\b\b 75%\b\b\b\b 76%\b\b\b\b\b  OK \n",
      "Creating    /content/final_project2/wood_dataset/wood/test/good       OK\n",
      "Extracting  /content/final_project2/wood_dataset/wood/test/good/100.jpg     \b\b\b\b 76%\b\b\b\b\b  OK \n",
      "Extracting  /content/final_project2/wood_dataset/wood/test/good/101.jpg     \b\b\b\b 76%\b\b\b\b\b  OK \n",
      "Extracting  /content/final_project2/wood_dataset/wood/test/good/102.jpg     \b\b\b\b 76%\b\b\b\b\b  OK \n",
      "Extracting  /content/final_project2/wood_dataset/wood/test/good/103.jpg     \b\b\b\b 76%\b\b\b\b\b  OK \n",
      "Extracting  /content/final_project2/wood_dataset/wood/test/good/104.jpg     \b\b\b\b 76%\b\b\b\b\b  OK \n",
      "Extracting  /content/final_project2/wood_dataset/wood/test/good/105.jpg     \b\b\b\b 77%\b\b\b\b\b  OK \n",
      "Extracting  /content/final_project2/wood_dataset/wood/test/good/106.jpg     \b\b\b\b 77%\b\b\b\b\b  OK \n",
      "Extracting  /content/final_project2/wood_dataset/wood/test/good/107.jpg     \b\b\b\b 77%\b\b\b\b\b  OK \n",
      "Extracting  /content/final_project2/wood_dataset/wood/test/good/108.jpg     \b\b\b\b 77%\b\b\b\b\b  OK \n",
      "Extracting  /content/final_project2/wood_dataset/wood/test/good/109.jpg     \b\b\b\b 77%\b\b\b\b\b  OK \n",
      "Extracting  /content/final_project2/wood_dataset/wood/test/good/110.jpg     \b\b\b\b 77%\b\b\b\b\b  OK \n",
      "Extracting  /content/final_project2/wood_dataset/wood/test/good/111.jpg     \b\b\b\b 78%\b\b\b\b\b  OK \n",
      "Extracting  /content/final_project2/wood_dataset/wood/test/good/112.jpg     \b\b\b\b 78%\b\b\b\b\b  OK \n",
      "Extracting  /content/final_project2/wood_dataset/wood/test/good/113.jpg     \b\b\b\b 78%\b\b\b\b\b  OK \n",
      "Extracting  /content/final_project2/wood_dataset/wood/test/good/114.jpg     \b\b\b\b 78%\b\b\b\b\b  OK \n",
      "Extracting  /content/final_project2/wood_dataset/wood/test/good/115.jpg     \b\b\b\b 78%\b\b\b\b\b  OK \n",
      "Extracting  /content/final_project2/wood_dataset/wood/test/good/116.jpg     \b\b\b\b 78%\b\b\b\b\b  OK \n",
      "Extracting  /content/final_project2/wood_dataset/wood/test/good/117.jpg     \b\b\b\b 79%\b\b\b\b\b  OK \n",
      "Extracting  /content/final_project2/wood_dataset/wood/test/good/118.jpg     \b\b\b\b 79%\b\b\b\b\b  OK \n",
      "Extracting  /content/final_project2/wood_dataset/wood/test/good/119.jpg     \b\b\b\b 79%\b\b\b\b\b  OK \n",
      "Extracting  /content/final_project2/wood_dataset/wood/test/good/120.jpg     \b\b\b\b 79%\b\b\b\b\b  OK \n",
      "Extracting  /content/final_project2/wood_dataset/wood/test/good/121.jpg     \b\b\b\b 79%\b\b\b\b\b  OK \n",
      "Extracting  /content/final_project2/wood_dataset/wood/test/good/122.jpg     \b\b\b\b 79%\b\b\b\b\b  OK \n",
      "Extracting  /content/final_project2/wood_dataset/wood/test/good/123.jpg     \b\b\b\b 80%\b\b\b\b\b  OK \n",
      "Extracting  /content/final_project2/wood_dataset/wood/test/good/124.jpg     \b\b\b\b 80%\b\b\b\b\b  OK \n",
      "Extracting  /content/final_project2/wood_dataset/wood/test/good/125.jpg     \b\b\b\b 80%\b\b\b\b\b  OK \n",
      "Extracting  /content/final_project2/wood_dataset/wood/test/good/126.jpg     \b\b\b\b 80%\b\b\b\b\b  OK \n",
      "Extracting  /content/final_project2/wood_dataset/wood/test/good/127.jpg     \b\b\b\b 80%\b\b\b\b\b  OK \n",
      "Extracting  /content/final_project2/wood_dataset/wood/test/good/128.jpg     \b\b\b\b 80%\b\b\b\b\b  OK \n",
      "Extracting  /content/final_project2/wood_dataset/wood/test/good/129.jpg     \b\b\b\b 81%\b\b\b\b\b  OK \n",
      "Extracting  /content/final_project2/wood_dataset/wood/test/good/130.jpg     \b\b\b\b 81%\b\b\b\b\b  OK \n",
      "Extracting  /content/final_project2/wood_dataset/wood/test/good/131.jpg     \b\b\b\b 81%\b\b\b\b\b  OK \n",
      "Extracting  /content/final_project2/wood_dataset/wood/test/good/132.jpg     \b\b\b\b 81%\b\b\b\b\b  OK \n",
      "Extracting  /content/final_project2/wood_dataset/wood/test/good/133.jpg     \b\b\b\b 81%\b\b\b\b\b  OK \n",
      "Extracting  /content/final_project2/wood_dataset/wood/test/good/134.jpg     \b\b\b\b 81%\b\b\b\b\b  OK \n",
      "Extracting  /content/final_project2/wood_dataset/wood/test/good/135.jpg     \b\b\b\b 82%\b\b\b\b\b  OK \n",
      "Extracting  /content/final_project2/wood_dataset/wood/test/good/136.jpg     \b\b\b\b 82%\b\b\b\b\b  OK \n",
      "Extracting  /content/final_project2/wood_dataset/wood/test/good/137.jpg     \b\b\b\b 82%\b\b\b\b\b  OK \n",
      "Extracting  /content/final_project2/wood_dataset/wood/test/good/138.jpg     \b\b\b\b 82%\b\b\b\b\b  OK \n",
      "Extracting  /content/final_project2/wood_dataset/wood/test/good/139.jpg     \b\b\b\b 82%\b\b\b\b\b  OK \n",
      "Extracting  /content/final_project2/wood_dataset/wood/test/good/140.jpg     \b\b\b\b 82%\b\b\b\b\b  OK \n",
      "Extracting  /content/final_project2/wood_dataset/wood/test/good/71.jpg     \b\b\b\b 83%\b\b\b\b\b  OK \n",
      "Extracting  /content/final_project2/wood_dataset/wood/test/good/72.jpg     \b\b\b\b 83%\b\b\b\b\b  OK \n",
      "Extracting  /content/final_project2/wood_dataset/wood/test/good/73.jpg     \b\b\b\b 83%\b\b\b\b\b  OK \n",
      "Extracting  /content/final_project2/wood_dataset/wood/test/good/74.jpg     \b\b\b\b 83%\b\b\b\b\b  OK \n",
      "Extracting  /content/final_project2/wood_dataset/wood/test/good/75.jpg     \b\b\b\b 83%\b\b\b\b\b  OK \n",
      "Extracting  /content/final_project2/wood_dataset/wood/test/good/76.jpg     \b\b\b\b 84%\b\b\b\b\b  OK \n",
      "Extracting  /content/final_project2/wood_dataset/wood/test/good/77.jpg     \b\b\b\b 84%\b\b\b\b\b  OK \n",
      "Extracting  /content/final_project2/wood_dataset/wood/test/good/78.jpg     \b\b\b\b 84%\b\b\b\b\b  OK \n",
      "Extracting  /content/final_project2/wood_dataset/wood/test/good/79.jpg     \b\b\b\b 84%\b\b\b\b\b  OK \n",
      "Extracting  /content/final_project2/wood_dataset/wood/test/good/80.jpg     \b\b\b\b 84%\b\b\b\b\b  OK \n",
      "Extracting  /content/final_project2/wood_dataset/wood/test/good/81.jpg     \b\b\b\b 84%\b\b\b\b\b  OK \n",
      "Extracting  /content/final_project2/wood_dataset/wood/test/good/82.jpg     \b\b\b\b 85%\b\b\b\b\b  OK \n",
      "Extracting  /content/final_project2/wood_dataset/wood/test/good/83.jpg     \b\b\b\b 85%\b\b\b\b\b  OK \n",
      "Extracting  /content/final_project2/wood_dataset/wood/test/good/84.jpg     \b\b\b\b 85%\b\b\b\b\b  OK \n",
      "Extracting  /content/final_project2/wood_dataset/wood/test/good/85.jpg     \b\b\b\b 85%\b\b\b\b\b  OK \n",
      "Extracting  /content/final_project2/wood_dataset/wood/test/good/86.jpg     \b\b\b\b 85%\b\b\b\b\b  OK \n",
      "Extracting  /content/final_project2/wood_dataset/wood/test/good/87.jpg     \b\b\b\b 85%\b\b\b\b\b  OK \n",
      "Extracting  /content/final_project2/wood_dataset/wood/test/good/88.jpg     \b\b\b\b 86%\b\b\b\b\b  OK \n",
      "Extracting  /content/final_project2/wood_dataset/wood/test/good/89.jpg     \b\b\b\b 86%\b\b\b\b\b  OK \n",
      "Extracting  /content/final_project2/wood_dataset/wood/test/good/90.jpg     \b\b\b\b 86%\b\b\b\b\b  OK \n",
      "Extracting  /content/final_project2/wood_dataset/wood/test/good/91.jpg     \b\b\b\b 86%\b\b\b\b\b  OK \n",
      "Extracting  /content/final_project2/wood_dataset/wood/test/good/92.jpg     \b\b\b\b 86%\b\b\b\b\b  OK \n",
      "Extracting  /content/final_project2/wood_dataset/wood/test/good/93.jpg     \b\b\b\b 86%\b\b\b\b\b  OK \n",
      "Extracting  /content/final_project2/wood_dataset/wood/test/good/94.jpg     \b\b\b\b 87%\b\b\b\b\b  OK \n",
      "Extracting  /content/final_project2/wood_dataset/wood/test/good/95.jpg     \b\b\b\b 87%\b\b\b\b\b  OK \n",
      "Extracting  /content/final_project2/wood_dataset/wood/test/good/96.jpg     \b\b\b\b 87%\b\b\b\b\b  OK \n",
      "Extracting  /content/final_project2/wood_dataset/wood/test/good/97.jpg     \b\b\b\b 87%\b\b\b\b\b  OK \n",
      "Extracting  /content/final_project2/wood_dataset/wood/test/good/98.jpg     \b\b\b\b 87%\b\b\b\b\b  OK \n",
      "Extracting  /content/final_project2/wood_dataset/wood/test/good/99.jpg     \b\b\b\b 87%\b\b\b\b\b  OK \n",
      "Creating    /content/final_project2/wood_dataset/wood/train           OK\n",
      "Creating    /content/final_project2/wood_dataset/wood/train/good      OK\n",
      "Extracting  /content/final_project2/wood_dataset/wood/train/good/1.jpg     \b\b\b\b 88%\b\b\b\b\b  OK \n",
      "Extracting  /content/final_project2/wood_dataset/wood/train/good/10.jpg     \b\b\b\b 88%\b\b\b\b\b  OK \n",
      "Extracting  /content/final_project2/wood_dataset/wood/train/good/11.jpg     \b\b\b\b 88%\b\b\b\b\b  OK \n",
      "Extracting  /content/final_project2/wood_dataset/wood/train/good/12.jpg     \b\b\b\b 88%\b\b\b\b\b  OK \n",
      "Extracting  /content/final_project2/wood_dataset/wood/train/good/13.jpg     \b\b\b\b 88%\b\b\b\b\b  OK \n",
      "Extracting  /content/final_project2/wood_dataset/wood/train/good/14.jpg     \b\b\b\b 88%\b\b\b\b\b  OK \n",
      "Extracting  /content/final_project2/wood_dataset/wood/train/good/15.jpg     \b\b\b\b 89%\b\b\b\b\b  OK \n",
      "Extracting  /content/final_project2/wood_dataset/wood/train/good/16.jpg     \b\b\b\b 89%\b\b\b\b\b  OK \n",
      "Extracting  /content/final_project2/wood_dataset/wood/train/good/17.jpg     \b\b\b\b 89%\b\b\b\b\b  OK \n",
      "Extracting  /content/final_project2/wood_dataset/wood/train/good/18.jpg     \b\b\b\b 89%\b\b\b\b\b  OK \n",
      "Extracting  /content/final_project2/wood_dataset/wood/train/good/19.jpg     \b\b\b\b 89%\b\b\b\b\b  OK \n",
      "Extracting  /content/final_project2/wood_dataset/wood/train/good/2.jpg     \b\b\b\b 89%\b\b\b\b\b  OK \n",
      "Extracting  /content/final_project2/wood_dataset/wood/train/good/20.jpg     \b\b\b\b 90%\b\b\b\b\b  OK \n",
      "Extracting  /content/final_project2/wood_dataset/wood/train/good/21.jpg     \b\b\b\b 90%\b\b\b\b\b  OK \n",
      "Extracting  /content/final_project2/wood_dataset/wood/train/good/22.jpg     \b\b\b\b 90%\b\b\b\b\b  OK \n",
      "Extracting  /content/final_project2/wood_dataset/wood/train/good/23.jpg     \b\b\b\b 90%\b\b\b\b\b  OK \n",
      "Extracting  /content/final_project2/wood_dataset/wood/train/good/24.jpg     \b\b\b\b 90%\b\b\b\b\b  OK \n",
      "Extracting  /content/final_project2/wood_dataset/wood/train/good/25.jpg     \b\b\b\b 91%\b\b\b\b\b  OK \n",
      "Extracting  /content/final_project2/wood_dataset/wood/train/good/26.jpg     \b\b\b\b 91%\b\b\b\b\b  OK \n",
      "Extracting  /content/final_project2/wood_dataset/wood/train/good/27.jpg     \b\b\b\b 91%\b\b\b\b\b  OK \n",
      "Extracting  /content/final_project2/wood_dataset/wood/train/good/28.jpg     \b\b\b\b 91%\b\b\b\b\b  OK \n",
      "Extracting  /content/final_project2/wood_dataset/wood/train/good/29.jpg     \b\b\b\b 91%\b\b\b\b\b  OK \n",
      "Extracting  /content/final_project2/wood_dataset/wood/train/good/3.jpg     \b\b\b\b 91%\b\b\b\b\b  OK \n",
      "Extracting  /content/final_project2/wood_dataset/wood/train/good/30.jpg     \b\b\b\b 92%\b\b\b\b\b  OK \n",
      "Extracting  /content/final_project2/wood_dataset/wood/train/good/31.jpg     \b\b\b\b 92%\b\b\b\b\b  OK \n",
      "Extracting  /content/final_project2/wood_dataset/wood/train/good/32.jpg     \b\b\b\b 92%\b\b\b\b\b  OK \n",
      "Extracting  /content/final_project2/wood_dataset/wood/train/good/33.jpg     \b\b\b\b 92%\b\b\b\b\b  OK \n",
      "Extracting  /content/final_project2/wood_dataset/wood/train/good/34.jpg     \b\b\b\b 92%\b\b\b\b\b  OK \n",
      "Extracting  /content/final_project2/wood_dataset/wood/train/good/35.jpg     \b\b\b\b 92%\b\b\b\b\b  OK \n",
      "Extracting  /content/final_project2/wood_dataset/wood/train/good/36.jpg     \b\b\b\b 93%\b\b\b\b\b  OK \n",
      "Extracting  /content/final_project2/wood_dataset/wood/train/good/37.jpg     \b\b\b\b 93%\b\b\b\b\b  OK \n",
      "Extracting  /content/final_project2/wood_dataset/wood/train/good/38.jpg     \b\b\b\b 93%\b\b\b\b\b  OK \n",
      "Extracting  /content/final_project2/wood_dataset/wood/train/good/39.jpg     \b\b\b\b 93%\b\b\b\b\b  OK \n",
      "Extracting  /content/final_project2/wood_dataset/wood/train/good/4.jpg     \b\b\b\b 93%\b\b\b\b\b  OK \n",
      "Extracting  /content/final_project2/wood_dataset/wood/train/good/40.jpg     \b\b\b\b 93%\b\b\b\b\b  OK \n",
      "Extracting  /content/final_project2/wood_dataset/wood/train/good/41.jpg     \b\b\b\b 94%\b\b\b\b\b  OK \n",
      "Extracting  /content/final_project2/wood_dataset/wood/train/good/42.jpg     \b\b\b\b 94%\b\b\b\b\b  OK \n",
      "Extracting  /content/final_project2/wood_dataset/wood/train/good/43.jpg     \b\b\b\b 94%\b\b\b\b\b  OK \n",
      "Extracting  /content/final_project2/wood_dataset/wood/train/good/44.jpg     \b\b\b\b 94%\b\b\b\b\b  OK \n",
      "Extracting  /content/final_project2/wood_dataset/wood/train/good/45.jpg     \b\b\b\b 94%\b\b\b\b\b  OK \n",
      "Extracting  /content/final_project2/wood_dataset/wood/train/good/46.jpg     \b\b\b\b 94%\b\b\b\b\b  OK \n",
      "Extracting  /content/final_project2/wood_dataset/wood/train/good/47.jpg     \b\b\b\b 95%\b\b\b\b\b  OK \n",
      "Extracting  /content/final_project2/wood_dataset/wood/train/good/48.jpg     \b\b\b\b 95%\b\b\b\b\b  OK \n",
      "Extracting  /content/final_project2/wood_dataset/wood/train/good/49.jpg     \b\b\b\b 95%\b\b\b\b\b  OK \n",
      "Extracting  /content/final_project2/wood_dataset/wood/train/good/5.jpg     \b\b\b\b 95%\b\b\b\b\b  OK \n",
      "Extracting  /content/final_project2/wood_dataset/wood/train/good/50.jpg     \b\b\b\b 95%\b\b\b\b\b  OK \n",
      "Extracting  /content/final_project2/wood_dataset/wood/train/good/51.jpg     \b\b\b\b 96%\b\b\b\b\b  OK \n",
      "Extracting  /content/final_project2/wood_dataset/wood/train/good/52.jpg     \b\b\b\b 96%\b\b\b\b\b  OK \n",
      "Extracting  /content/final_project2/wood_dataset/wood/train/good/53.jpg     \b\b\b\b 96%\b\b\b\b\b  OK \n",
      "Extracting  /content/final_project2/wood_dataset/wood/train/good/54.jpg     \b\b\b\b 96%\b\b\b\b\b  OK \n",
      "Extracting  /content/final_project2/wood_dataset/wood/train/good/55.jpg     \b\b\b\b 96%\b\b\b\b\b  OK \n",
      "Extracting  /content/final_project2/wood_dataset/wood/train/good/56.jpg     \b\b\b\b 96%\b\b\b\b\b  OK \n",
      "Extracting  /content/final_project2/wood_dataset/wood/train/good/57.jpg     \b\b\b\b 97%\b\b\b\b\b  OK \n",
      "Extracting  /content/final_project2/wood_dataset/wood/train/good/58.jpg     \b\b\b\b 97%\b\b\b\b\b  OK \n",
      "Extracting  /content/final_project2/wood_dataset/wood/train/good/59.jpg     \b\b\b\b 97%\b\b\b\b\b  OK \n",
      "Extracting  /content/final_project2/wood_dataset/wood/train/good/6.jpg     \b\b\b\b 97%\b\b\b\b\b  OK \n",
      "Extracting  /content/final_project2/wood_dataset/wood/train/good/60.jpg     \b\b\b\b 97%\b\b\b\b\b  OK \n",
      "Extracting  /content/final_project2/wood_dataset/wood/train/good/61.jpg     \b\b\b\b 97%\b\b\b\b\b  OK \n",
      "Extracting  /content/final_project2/wood_dataset/wood/train/good/62.jpg     \b\b\b\b 98%\b\b\b\b\b  OK \n",
      "Extracting  /content/final_project2/wood_dataset/wood/train/good/63.jpg     \b\b\b\b 98%\b\b\b\b\b  OK \n",
      "Extracting  /content/final_project2/wood_dataset/wood/train/good/64.jpg     \b\b\b\b 98%\b\b\b\b\b  OK \n",
      "Extracting  /content/final_project2/wood_dataset/wood/train/good/65.jpg     \b\b\b\b 98%\b\b\b\b\b  OK \n",
      "Extracting  /content/final_project2/wood_dataset/wood/train/good/66.jpg     \b\b\b\b 98%\b\b\b\b\b  OK \n",
      "Extracting  /content/final_project2/wood_dataset/wood/train/good/67.jpg     \b\b\b\b 98%\b\b\b\b\b  OK \n",
      "Extracting  /content/final_project2/wood_dataset/wood/train/good/68.jpg     \b\b\b\b 99%\b\b\b\b\b  OK \n",
      "Extracting  /content/final_project2/wood_dataset/wood/train/good/69.jpg     \b\b\b\b 99%\b\b\b\b\b  OK \n",
      "Extracting  /content/final_project2/wood_dataset/wood/train/good/7.jpg     \b\b\b\b 99%\b\b\b\b\b  OK \n",
      "Extracting  /content/final_project2/wood_dataset/wood/train/good/70.jpg     \b\b\b\b 99%\b\b\b\b\b  OK \n",
      "Extracting  /content/final_project2/wood_dataset/wood/train/good/8.jpg     \b\b\b\b 99%\b\b\b\b\b  OK \n",
      "Extracting  /content/final_project2/wood_dataset/wood/train/good/9.jpg     \b\b\b\b 99%\b\b\b\b\b  OK \n",
      "All OK\n"
     ]
    }
   ],
   "source": [
    "import shutil\n",
    "\n",
    "# Source path (from your starred files)\n",
    "source_path = '/content/drive/MyDrive/final_project2.rar'\n",
    "\n",
    "# Destination path in Colab\n",
    "dest_path = '/content/final_project2.rar'\n",
    "\n",
    "# Copy the file\n",
    "shutil.copy(source_path, dest_path)\n",
    "\n",
    "!mkdir /content/final_project2\n",
    "!unrar x /content/final_project2.rar /content/final_project2"
   ]
  },
  {
   "cell_type": "code",
   "execution_count": 3,
   "metadata": {
    "id": "v-xXvLz49xeL"
   },
   "outputs": [],
   "source": [
    "# ReConPatch (Patch-based Autoencoder Ensemble for Anomaly Detection)\n",
    "# Full Pipeline: Training + Testing + Anomaly Heatmaps (based on your dataset)\n",
    "\n",
    "import os\n",
    "import torch\n",
    "import torch.nn as nn\n",
    "import torchvision.transforms as transforms\n",
    "from torch.utils.data import Dataset, DataLoader\n",
    "from PIL import Image\n",
    "import numpy as np\n",
    "from tqdm import tqdm\n",
    "import matplotlib.pyplot as plt\n",
    "\n",
    "# === Config ===\n",
    "PATCH_SIZE = 32\n",
    "IMAGE_SIZE = 224\n",
    "STRIDE = 32\n",
    "BATCH_SIZE = 64\n",
    "EPOCHS = 20\n",
    "\n",
    "DEVICE = torch.device(\"cuda\" if torch.cuda.is_available() else \"cpu\")\n",
    "\n",
    "# === Utils ===\n",
    "def extract_patches(img_tensor, patch_size=PATCH_SIZE, stride=STRIDE):\n",
    "    patches = img_tensor.unfold(1, patch_size, stride).unfold(2, patch_size, stride)\n",
    "    patches = patches.contiguous().view(3, -1, patch_size, patch_size)\n",
    "    patches = patches.permute(1, 0, 2, 3)\n",
    "    return patches\n",
    "\n",
    "def combine_patches(patches, img_size=IMAGE_SIZE, patch_size=PATCH_SIZE, stride=STRIDE):\n",
    "    num_patches = int(np.sqrt(len(patches)))\n",
    "    grid = patches.view(num_patches, num_patches)\n",
    "    heatmap = torch.zeros((img_size, img_size))\n",
    "    countmap = torch.zeros((img_size, img_size))\n",
    "    idx = 0\n",
    "    for y in range(0, img_size - patch_size + 1, stride):\n",
    "        for x in range(0, img_size - patch_size + 1, stride):\n",
    "            patch_score = patches[idx]\n",
    "            heatmap[y:y+patch_size, x:x+patch_size] += patch_score\n",
    "            countmap[y:y+patch_size, x:x+patch_size] += 1\n",
    "            idx += 1\n",
    "    heatmap /= countmap\n",
    "    return heatmap\n",
    "\n",
    "# === Dataset ===\n",
    "class PatchDataset(Dataset):\n",
    "    def __init__(self, root_dir, transform=None):\n",
    "        self.img_paths = [os.path.join(root_dir, f) for f in os.listdir(root_dir) if f.endswith(('jpg', 'png'))]\n",
    "        self.transform = transform\n",
    "\n",
    "    def __len__(self):\n",
    "        return len(self.img_paths)\n",
    "\n",
    "    def __getitem__(self, idx):\n",
    "        img_path = self.img_paths[idx]\n",
    "        img = Image.open(img_path).convert('RGB')\n",
    "        if self.transform:\n",
    "            img_tensor = self.transform(img)\n",
    "        patches = extract_patches(img_tensor)\n",
    "        return patches, img_tensor, img_path\n",
    "\n",
    "# === Patch Autoencoder ===\n",
    "class PatchAutoencoder(nn.Module):\n",
    "    def __init__(self):\n",
    "        super().__init__()\n",
    "        self.encoder = nn.Sequential(\n",
    "            nn.Conv2d(3, 16, 3, padding=1),\n",
    "            nn.ReLU(),\n",
    "            nn.Conv2d(16, 32, 3, stride=2, padding=1),\n",
    "            nn.ReLU()\n",
    "        )\n",
    "        self.decoder = nn.Sequential(\n",
    "            nn.ConvTranspose2d(32, 16, 4, stride=2, padding=1),\n",
    "            nn.ReLU(),\n",
    "            nn.Conv2d(16, 3, 3, padding=1),\n",
    "            nn.Tanh()\n",
    "        )\n",
    "\n",
    "    def forward(self, x):\n",
    "        z = self.encoder(x)\n",
    "        return self.decoder(z)\n",
    "\n",
    "# === Transforms ===\n",
    "transform = transforms.Compose([\n",
    "    transforms.Resize((IMAGE_SIZE, IMAGE_SIZE)),\n",
    "    transforms.ToTensor(),\n",
    "    transforms.Normalize([0.5]*3, [0.5]*3)\n",
    "])\n",
    "\n",
    "# === Paths ===\n",
    "train_dir = '/content/final_project2/wood_dataset/wood/train/good'\n",
    "test_good_dir = '/content/final_project2/wood_dataset/wood/test/good'\n",
    "test_defect_dir = '/content/final_project2/wood_dataset/wood/test/defect'"
   ]
  },
  {
   "cell_type": "code",
   "execution_count": 4,
   "metadata": {
    "colab": {
     "base_uri": "https://localhost:8080/"
    },
    "id": "pWuQw9z696wa",
    "outputId": "1e26ff29-ac53-4083-fcc2-c4ecd03ed499"
   },
   "outputs": [
    {
     "name": "stderr",
     "output_type": "stream",
     "text": [
      "100%|██████████| 70/70 [00:05<00:00, 13.80it/s]\n"
     ]
    },
    {
     "name": "stdout",
     "output_type": "stream",
     "text": [
      "Epoch 1/20, Loss: 0.0640\n"
     ]
    },
    {
     "name": "stderr",
     "output_type": "stream",
     "text": [
      "100%|██████████| 70/70 [00:03<00:00, 19.41it/s]\n"
     ]
    },
    {
     "name": "stdout",
     "output_type": "stream",
     "text": [
      "Epoch 2/20, Loss: 0.0066\n"
     ]
    },
    {
     "name": "stderr",
     "output_type": "stream",
     "text": [
      "100%|██████████| 70/70 [00:03<00:00, 20.98it/s]\n"
     ]
    },
    {
     "name": "stdout",
     "output_type": "stream",
     "text": [
      "Epoch 3/20, Loss: 0.0036\n"
     ]
    },
    {
     "name": "stderr",
     "output_type": "stream",
     "text": [
      "100%|██████████| 70/70 [00:04<00:00, 16.07it/s]\n"
     ]
    },
    {
     "name": "stdout",
     "output_type": "stream",
     "text": [
      "Epoch 4/20, Loss: 0.0027\n"
     ]
    },
    {
     "name": "stderr",
     "output_type": "stream",
     "text": [
      "100%|██████████| 70/70 [00:03<00:00, 20.58it/s]\n"
     ]
    },
    {
     "name": "stdout",
     "output_type": "stream",
     "text": [
      "Epoch 5/20, Loss: 0.0023\n"
     ]
    },
    {
     "name": "stderr",
     "output_type": "stream",
     "text": [
      "100%|██████████| 70/70 [00:03<00:00, 20.30it/s]\n"
     ]
    },
    {
     "name": "stdout",
     "output_type": "stream",
     "text": [
      "Epoch 6/20, Loss: 0.0020\n"
     ]
    },
    {
     "name": "stderr",
     "output_type": "stream",
     "text": [
      "100%|██████████| 70/70 [00:03<00:00, 21.26it/s]\n"
     ]
    },
    {
     "name": "stdout",
     "output_type": "stream",
     "text": [
      "Epoch 7/20, Loss: 0.0017\n"
     ]
    },
    {
     "name": "stderr",
     "output_type": "stream",
     "text": [
      "100%|██████████| 70/70 [00:04<00:00, 15.81it/s]\n"
     ]
    },
    {
     "name": "stdout",
     "output_type": "stream",
     "text": [
      "Epoch 8/20, Loss: 0.0015\n"
     ]
    },
    {
     "name": "stderr",
     "output_type": "stream",
     "text": [
      "100%|██████████| 70/70 [00:03<00:00, 21.34it/s]\n"
     ]
    },
    {
     "name": "stdout",
     "output_type": "stream",
     "text": [
      "Epoch 9/20, Loss: 0.0013\n"
     ]
    },
    {
     "name": "stderr",
     "output_type": "stream",
     "text": [
      "100%|██████████| 70/70 [00:03<00:00, 21.60it/s]\n"
     ]
    },
    {
     "name": "stdout",
     "output_type": "stream",
     "text": [
      "Epoch 10/20, Loss: 0.0011\n"
     ]
    },
    {
     "name": "stderr",
     "output_type": "stream",
     "text": [
      "100%|██████████| 70/70 [00:03<00:00, 18.35it/s]\n"
     ]
    },
    {
     "name": "stdout",
     "output_type": "stream",
     "text": [
      "Epoch 11/20, Loss: 0.0010\n"
     ]
    },
    {
     "name": "stderr",
     "output_type": "stream",
     "text": [
      "100%|██████████| 70/70 [00:03<00:00, 18.27it/s]\n"
     ]
    },
    {
     "name": "stdout",
     "output_type": "stream",
     "text": [
      "Epoch 12/20, Loss: 0.0009\n"
     ]
    },
    {
     "name": "stderr",
     "output_type": "stream",
     "text": [
      "100%|██████████| 70/70 [00:03<00:00, 21.16it/s]\n"
     ]
    },
    {
     "name": "stdout",
     "output_type": "stream",
     "text": [
      "Epoch 13/20, Loss: 0.0009\n"
     ]
    },
    {
     "name": "stderr",
     "output_type": "stream",
     "text": [
      "100%|██████████| 70/70 [00:03<00:00, 21.21it/s]\n"
     ]
    },
    {
     "name": "stdout",
     "output_type": "stream",
     "text": [
      "Epoch 14/20, Loss: 0.0008\n"
     ]
    },
    {
     "name": "stderr",
     "output_type": "stream",
     "text": [
      "100%|██████████| 70/70 [00:04<00:00, 15.80it/s]\n"
     ]
    },
    {
     "name": "stdout",
     "output_type": "stream",
     "text": [
      "Epoch 15/20, Loss: 0.0008\n"
     ]
    },
    {
     "name": "stderr",
     "output_type": "stream",
     "text": [
      "100%|██████████| 70/70 [00:03<00:00, 21.13it/s]\n"
     ]
    },
    {
     "name": "stdout",
     "output_type": "stream",
     "text": [
      "Epoch 16/20, Loss: 0.0007\n"
     ]
    },
    {
     "name": "stderr",
     "output_type": "stream",
     "text": [
      "100%|██████████| 70/70 [00:03<00:00, 21.61it/s]\n"
     ]
    },
    {
     "name": "stdout",
     "output_type": "stream",
     "text": [
      "Epoch 17/20, Loss: 0.0007\n"
     ]
    },
    {
     "name": "stderr",
     "output_type": "stream",
     "text": [
      "100%|██████████| 70/70 [00:03<00:00, 20.53it/s]\n"
     ]
    },
    {
     "name": "stdout",
     "output_type": "stream",
     "text": [
      "Epoch 18/20, Loss: 0.0007\n"
     ]
    },
    {
     "name": "stderr",
     "output_type": "stream",
     "text": [
      "100%|██████████| 70/70 [00:04<00:00, 16.20it/s]\n"
     ]
    },
    {
     "name": "stdout",
     "output_type": "stream",
     "text": [
      "Epoch 19/20, Loss: 0.0007\n"
     ]
    },
    {
     "name": "stderr",
     "output_type": "stream",
     "text": [
      "100%|██████████| 70/70 [00:03<00:00, 21.52it/s]"
     ]
    },
    {
     "name": "stdout",
     "output_type": "stream",
     "text": [
      "Epoch 20/20, Loss: 0.0007\n"
     ]
    },
    {
     "name": "stderr",
     "output_type": "stream",
     "text": [
      "\n"
     ]
    }
   ],
   "source": [
    "\n",
    "# === Load Training Data ===\n",
    "train_dataset = PatchDataset(train_dir, transform=transform)\n",
    "train_loader = DataLoader(train_dataset, batch_size=1, shuffle=True)\n",
    "\n",
    "# === Train ===\n",
    "model = PatchAutoencoder().to(DEVICE)\n",
    "criterion = nn.MSELoss()\n",
    "optimizer = torch.optim.Adam(model.parameters(), lr=1e-3)\n",
    "\n",
    "model.train()\n",
    "for epoch in range(EPOCHS):\n",
    "    total_loss = 0\n",
    "    for patches, _, _ in tqdm(train_loader):\n",
    "        patches = patches[0].to(DEVICE)\n",
    "        optimizer.zero_grad()\n",
    "        recon = model(patches)\n",
    "        loss = criterion(recon, patches)\n",
    "        loss.backward()\n",
    "        optimizer.step()\n",
    "        total_loss += loss.item()\n",
    "    print(f\"Epoch {epoch+1}/{EPOCHS}, Loss: {total_loss / len(train_loader):.4f}\")"
   ]
  },
  {
   "cell_type": "code",
   "execution_count": 5,
   "metadata": {
    "id": "cJwtAjfw-E5M"
   },
   "outputs": [],
   "source": [
    "\n",
    "# Save model\n",
    "torch.save(model.state_dict(), \"patch_autoencoder.pth\")"
   ]
  },
  {
   "cell_type": "code",
   "execution_count": 6,
   "metadata": {
    "colab": {
     "base_uri": "https://localhost:8080/"
    },
    "id": "t1roTjIv-GRa",
    "outputId": "3ce80cda-44f8-4fd9-e1a1-e6c11dafa2b6"
   },
   "outputs": [
    {
     "name": "stderr",
     "output_type": "stream",
     "text": [
      "100%|██████████| 70/70 [00:09<00:00,  7.05it/s]\n",
      "100%|██████████| 71/71 [00:07<00:00,  9.05it/s]\n"
     ]
    }
   ],
   "source": [
    "\n",
    "# === Evaluation ===\n",
    "def evaluate(model, test_dir, save_prefix):\n",
    "    model.eval()\n",
    "    dataset = PatchDataset(test_dir, transform=transform)\n",
    "    loader = DataLoader(dataset, batch_size=1, shuffle=False)\n",
    "    with torch.no_grad():\n",
    "        for patches, img_tensor, path in tqdm(loader):\n",
    "            patches = patches[0].to(DEVICE)\n",
    "            recon = model(patches)\n",
    "            error = torch.mean((patches - recon) ** 2, dim=[1, 2, 3])\n",
    "            heatmap = combine_patches(error.cpu())\n",
    "\n",
    "            # Normalize heatmap for visualization\n",
    "            heatmap_np = heatmap.numpy()\n",
    "            heatmap_np = (heatmap_np - heatmap_np.min()) / (heatmap_np.max() - heatmap_np.min() + 1e-8)\n",
    "\n",
    "            # Save heatmap overlay\n",
    "            img_np = img_tensor[0].permute(1, 2, 0).numpy()\n",
    "            img_np = (img_np * 0.5 + 0.5).clip(0, 1)\n",
    "            plt.imshow(img_np)\n",
    "            plt.imshow(heatmap_np, cmap='jet', alpha=0.5)\n",
    "            plt.axis('off')\n",
    "            fname = os.path.basename(path[0])\n",
    "            plt.savefig(f\"{save_prefix}_{fname}\", bbox_inches='tight', pad_inches=0)\n",
    "            plt.close()\n",
    "\n",
    "# Run Evaluation\n",
    "model.load_state_dict(torch.load(\"patch_autoencoder.pth\"))\n",
    "evaluate(model, test_good_dir, \"heatmap_good\")\n",
    "evaluate(model, test_defect_dir, \"heatmap_defect\")\n"
   ]
  },
  {
   "cell_type": "code",
   "execution_count": 7,
   "metadata": {
    "colab": {
     "base_uri": "https://localhost:8080/"
    },
    "id": "MX5sISck-JFp",
    "outputId": "84aa151a-dd1b-4f66-bb2d-3b37e7761f44"
   },
   "outputs": [
    {
     "name": "stderr",
     "output_type": "stream",
     "text": [
      "100%|██████████| 70/70 [00:10<00:00,  6.97it/s]\n",
      "100%|██████████| 71/71 [00:09<00:00,  7.48it/s]\n"
     ]
    }
   ],
   "source": [
    "evaluate(model, test_good_dir, \"heatmap_good\")\n",
    "evaluate(model, test_defect_dir, \"heatmap_defect\")"
   ]
  },
  {
   "cell_type": "code",
   "execution_count": 8,
   "metadata": {
    "colab": {
     "base_uri": "https://localhost:8080/"
    },
    "id": "kSNzEyq7_Z_4",
    "outputId": "0d3f221c-ea5d-4287-99ae-614cc5e68c4f"
   },
   "outputs": [
    {
     "name": "stdout",
     "output_type": "stream",
     "text": [
      "ROC AUC: 0.7636\n",
      "Precision: 0.0000\n",
      "Recall: 0.0000\n",
      "F1 Score: 0.0000\n"
     ]
    },
    {
     "name": "stderr",
     "output_type": "stream",
     "text": [
      "/usr/local/lib/python3.11/dist-packages/sklearn/metrics/_classification.py:1565: UndefinedMetricWarning: Precision is ill-defined and being set to 0.0 due to no predicted samples. Use `zero_division` parameter to control this behavior.\n",
      "  _warn_prf(average, modifier, f\"{metric.capitalize()} is\", len(result))\n"
     ]
    }
   ],
   "source": [
    "from sklearn.metrics import roc_auc_score, precision_score, recall_score, f1_score\n",
    "\n",
    "def score_dataset(model, test_dirs, labels):\n",
    "    model.eval()\n",
    "    scores = []\n",
    "    with torch.no_grad():\n",
    "        for dir_path, label in zip(test_dirs, labels):\n",
    "            dataset = PatchDataset(dir_path, transform=transform)\n",
    "            loader = DataLoader(dataset, batch_size=1, shuffle=False)\n",
    "            for patches, _, _ in loader:\n",
    "                patches = patches[0].to(DEVICE)\n",
    "                recon = model(patches)\n",
    "                error = torch.mean((patches - recon) ** 2, dim=[1, 2, 3])  # per-patch\n",
    "                image_score = error.mean().item()  # mean over patches\n",
    "                scores.append((image_score, label))\n",
    "    return scores\n",
    "\n",
    "# Run scoring\n",
    "test_dirs = [test_good_dir, test_defect_dir]\n",
    "labels = [0, 1]\n",
    "all_scores = score_dataset(model, test_dirs, labels)\n",
    "\n",
    "# Separate scores and labels\n",
    "y_scores = [s for s, _ in all_scores]\n",
    "y_true = [l for _, l in all_scores]\n",
    "\n",
    "auc = roc_auc_score(y_true, y_scores)\n",
    "print(f\"ROC AUC: {auc:.4f}\")\n"
   ]
  },
  {
   "cell_type": "code",
   "execution_count": 8,
   "metadata": {
    "id": "MYsihXah_5yF"
   },
   "outputs": [],
   "source": []
  }
 ],
 "metadata": {
  "accelerator": "GPU",
  "colab": {
   "gpuType": "T4",
   "provenance": []
  },
  "kernelspec": {
   "display_name": "Python 3 (ipykernel)",
   "language": "python",
   "name": "python3"
  },
  "language_info": {
   "codemirror_mode": {
    "name": "ipython",
    "version": 3
   },
   "file_extension": ".py",
   "mimetype": "text/x-python",
   "name": "python",
   "nbconvert_exporter": "python",
   "pygments_lexer": "ipython3",
   "version": "3.11.7"
  }
 },
 "nbformat": 4,
 "nbformat_minor": 4
}
